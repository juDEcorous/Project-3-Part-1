{
 "cells": [
  {
   "cell_type": "markdown",
   "id": "26f4009a",
   "metadata": {},
   "source": [
    "# Project 3 - Part 2 Extract from TMDB (Core)\n",
    "<b> Your Stakeholder Wants More Data!\n",
    "    \n",
    "- After investigating the preview of your data from Part 1, your stakeholder realized that there is no financial information included in the IMDB data (e.g. budget or revenue).\n",
    "    - This will be a major roadblock when attempting to analyze which movies are successful and must be addressed before you will be able to determine which movies are successful.\n",
    "- Your stakeholder identified The Movie Database (TMDB) as a great source of financial data (https://www.themoviedb.org/). Thankfully, TMDB offers a free API for programmatic access to their data!\n",
    "- Your stakeholder wants you to extract the budget, revenue, and MPAA Rating (G/PG/PG-13/R), which is also called \"Certification\".\n",
    "- Note: this process can take a long time and may need to run overnight.\n"
   ]
  },
  {
   "cell_type": "code",
   "execution_count": 1,
   "id": "001ee011",
   "metadata": {},
   "outputs": [],
   "source": [
    "# imports\n",
    "import json, os, time\n",
    "import tmdbsimple as tmdb\n",
    "import pandas as pd\n",
    "from tqdm.notebook import tqdm_notebook"
   ]
  },
  {
   "cell_type": "code",
   "execution_count": 2,
   "id": "fe465903",
   "metadata": {},
   "outputs": [
    {
     "data": {
      "text/plain": [
       "dict_keys(['api-key'])"
      ]
     },
     "execution_count": 2,
     "metadata": {},
     "output_type": "execute_result"
    }
   ],
   "source": [
    "# load API \n",
    "with open('/Users/j29ma/.secret/tmdb_api.json', 'r') as f:\n",
    "    login = json.load(f)\n",
    "# Display the keys of the loaded dict\n",
    "login.keys()"
   ]
  },
  {
   "cell_type": "code",
   "execution_count": 3,
   "id": "68d2cc68",
   "metadata": {},
   "outputs": [],
   "source": [
    "# API key\n",
    "tmdb.API_KEY =  login['api-key']"
   ]
  },
  {
   "cell_type": "code",
   "execution_count": 4,
   "id": "49a6c199",
   "metadata": {},
   "outputs": [
    {
     "data": {
      "text/plain": [
       "['title_akas.csv.gz', 'title_basics.csv.gz', 'title_ratings.csv.gz']"
      ]
     },
     "execution_count": 4,
     "metadata": {},
     "output_type": "execute_result"
    }
   ],
   "source": [
    "# folder for API call data\n",
    "FOLDER = \"Data/\"\n",
    "os.makedirs(FOLDER, exist_ok = True)\n",
    "os.listdir(FOLDER)"
   ]
  },
  {
   "cell_type": "code",
   "execution_count": 5,
   "id": "c5672353",
   "metadata": {},
   "outputs": [],
   "source": [
    "# make a movie object using the .Movies function from tmdb\n",
    "movie = tmdb.Movies(603)"
   ]
  },
  {
   "cell_type": "code",
   "execution_count": 6,
   "id": "36bba593",
   "metadata": {},
   "outputs": [
    {
     "data": {
      "text/plain": [
       "{'adult': False,\n",
       " 'backdrop_path': '/giBJ0ezYNEobFBfB8H4JNTjmll.jpg',\n",
       " 'belongs_to_collection': {'id': 2344,\n",
       "  'name': 'The Matrix Collection',\n",
       "  'poster_path': '/bV9qTVHTVf0gkW0j7p7M0ILD4pG.jpg',\n",
       "  'backdrop_path': '/bRm2DEgUiYciDw3myHuYFInD7la.jpg'},\n",
       " 'budget': 63000000,\n",
       " 'genres': [{'id': 28, 'name': 'Action'},\n",
       "  {'id': 878, 'name': 'Science Fiction'}],\n",
       " 'homepage': 'http://www.warnerbros.com/matrix',\n",
       " 'id': 603,\n",
       " 'imdb_id': 'tt0133093',\n",
       " 'original_language': 'en',\n",
       " 'original_title': 'The Matrix',\n",
       " 'overview': 'Set in the 22nd century, The Matrix tells the story of a computer hacker who joins a group of underground insurgents fighting the vast and powerful computers who now rule the earth.',\n",
       " 'popularity': 63.096,\n",
       " 'poster_path': '/aOIuZAjPaRIE6CMzbazvcHuHXDc.jpg',\n",
       " 'production_companies': [{'id': 79,\n",
       "   'logo_path': '/tpFpsqbleCzEE2p5EgvUq6ozfCA.png',\n",
       "   'name': 'Village Roadshow Pictures',\n",
       "   'origin_country': 'US'},\n",
       "  {'id': 372,\n",
       "   'logo_path': None,\n",
       "   'name': 'Groucho II Film Partnership',\n",
       "   'origin_country': ''},\n",
       "  {'id': 1885,\n",
       "   'logo_path': '/xlvoOZr4s1PygosrwZyolIFe5xs.png',\n",
       "   'name': 'Silver Pictures',\n",
       "   'origin_country': 'US'},\n",
       "  {'id': 174,\n",
       "   'logo_path': '/IuAlhI9eVC9Z8UQWOIDdWRKSEJ.png',\n",
       "   'name': 'Warner Bros. Pictures',\n",
       "   'origin_country': 'US'}],\n",
       " 'production_countries': [{'iso_3166_1': 'US',\n",
       "   'name': 'United States of America'}],\n",
       " 'release_date': '1999-03-30',\n",
       " 'revenue': 463517383,\n",
       " 'runtime': 136,\n",
       " 'spoken_languages': [{'english_name': 'English',\n",
       "   'iso_639_1': 'en',\n",
       "   'name': 'English'}],\n",
       " 'status': 'Released',\n",
       " 'tagline': 'Welcome to the Real World.',\n",
       " 'title': 'The Matrix',\n",
       " 'video': False,\n",
       " 'vote_average': 8.203,\n",
       " 'vote_count': 23279}"
      ]
     },
     "execution_count": 6,
     "metadata": {},
     "output_type": "execute_result"
    }
   ],
   "source": [
    "# movie objects have a .info dictionary \n",
    "info = movie.info()\n",
    "info"
   ]
  },
  {
   "cell_type": "markdown",
   "id": "95e99b5d",
   "metadata": {},
   "source": [
    "## Query Movies by ID\n",
    "### IMDB ID"
   ]
  },
  {
   "cell_type": "code",
   "execution_count": 7,
   "id": "72710577",
   "metadata": {},
   "outputs": [
    {
     "data": {
      "text/plain": [
       "'tt0133093'"
      ]
     },
     "execution_count": 7,
     "metadata": {},
     "output_type": "execute_result"
    }
   ],
   "source": [
    "info['imdb_id']"
   ]
  },
  {
   "cell_type": "markdown",
   "id": "c926eda8",
   "metadata": {},
   "source": [
    "### Budget"
   ]
  },
  {
   "cell_type": "code",
   "execution_count": 8,
   "id": "f8b77099",
   "metadata": {},
   "outputs": [
    {
     "data": {
      "text/plain": [
       "63000000"
      ]
     },
     "execution_count": 8,
     "metadata": {},
     "output_type": "execute_result"
    }
   ],
   "source": [
    "info['budget']"
   ]
  },
  {
   "cell_type": "markdown",
   "id": "c82e27bd",
   "metadata": {},
   "source": [
    "#### Revenue"
   ]
  },
  {
   "cell_type": "code",
   "execution_count": 9,
   "id": "82f22a15",
   "metadata": {},
   "outputs": [
    {
     "data": {
      "text/plain": [
       "463517383"
      ]
     },
     "execution_count": 9,
     "metadata": {},
     "output_type": "execute_result"
    }
   ],
   "source": [
    "info['revenue']"
   ]
  },
  {
   "cell_type": "markdown",
   "id": "919abd5a",
   "metadata": {},
   "source": [
    "### Certification"
   ]
  },
  {
   "cell_type": "code",
   "execution_count": 11,
   "id": "3d28e5a9",
   "metadata": {},
   "outputs": [
    {
     "name": "stdout",
     "output_type": "stream",
     "text": [
      "R\n",
      "R\n"
     ]
    }
   ],
   "source": [
    "# example from package README\n",
    "# source = https://github.com/celiao/tmdbsimpleresponse = movie.releases()\n",
    "releases = movie.releases()\n",
    "for c in movie.countries:\n",
    "    if c['iso_3166_1'] == 'US':\n",
    "        print(c['certification'])"
   ]
  },
  {
   "cell_type": "markdown",
   "id": "db320c4e",
   "metadata": {},
   "source": [
    "# <b> Specifications - Financial Data\n",
    "    \n",
    "- Your stakeholder would like you to extract and save the results for movies that meet all of the criteria established in part 1 of the project (You should already have a filtered dataframe saved from part one as a csv.gz file)\n",
    "\n",
    "- As a proof-of-concept, they requested you perform a test extraction of movies that started in 2000 or 2001\n",
    "\n",
    "- Each year should be saved as a separate .csv.gz file\n",
    "\n",
    "Hint: Use the two custom functions from the lessons (Intro to TMDB API, and Efficient TMDB API Calls). Be sure to define these functions prior to calling them in your code!\n",
    "\n",
    "- One function will add the certification (MPGG Rating) to movie.info\n",
    "- The other function will help you append/extend a JSON file with Python\n",
    "    \n",
    "<b> Confirm Your API Function works.\n",
    "\n",
    "In order to ensure your function for extracting movie data from TMDB is working, test your function on these 2 movie ids: tt0848228 (\"The Avengers\") and tt0332280 (\"The Notebook\"). Make sure that your function runs without error and that it returns the correct movie's data for both test ids.\n",
    "\n",
    "Hint: Ideally you can organize the code segments from the previous lesson to create an outer and inner loop, but if you get stuck, you can complete 1 year at a time.\n",
    "\n",
    "- Once you have retrieved and saved the final results to 2 separate .csv.gz files, move on to a new Exploratory Data Analysis notebook to explore the following questions.\n",
    "\n",
    "## Certification (MPGG Rating) Function"
   ]
  },
  {
   "cell_type": "code",
   "execution_count": 12,
   "id": "032c5781",
   "metadata": {},
   "outputs": [],
   "source": [
    "# function to add certification to movie.info dict\n",
    "def get_movie_with_rating(movie_id):\n",
    "    \"\"\"Adapted from source = https://github.com/celiao/tmdbsimple\"\"\"\n",
    "    \n",
    "    # set movie id\n",
    "    movie = tmdb.Movies(movie_id)\n",
    "\n",
    "    # save the .info and .releases dictionaries\n",
    "    info = movie.info()\n",
    "    releases = movie.releases()\n",
    "    \n",
    "    # only get releases of the movie in the US\n",
    "    for c in releases['countries']:\n",
    "        \n",
    "        # if country abbreviation == US\n",
    "        if c['iso_3166_1'] == 'US':\n",
    "            \n",
    "            # save certification key into info dict\n",
    "            info['certification'] = c['certification']\n",
    "            \n",
    "    return info"
   ]
  },
  {
   "cell_type": "code",
   "execution_count": 24,
   "id": "d1828070",
   "metadata": {},
   "outputs": [],
   "source": [
    "def information(movie):\n",
    "    print(f'Budget: ', movie['budget'])\n",
    "    print(f'Revenue: ', movie['revenue'])\n",
    "    print(f'Certification: ', movie['certification'])"
   ]
  },
  {
   "cell_type": "markdown",
   "id": "7dfdce05",
   "metadata": {},
   "source": [
    "### 1st Test"
   ]
  },
  {
   "cell_type": "code",
   "execution_count": 30,
   "id": "37e4f279",
   "metadata": {},
   "outputs": [],
   "source": [
    "movie_id1 = 'tt0848228'\n",
    "info1 = get_movie_with_rating(movie_id1)"
   ]
  },
  {
   "cell_type": "code",
   "execution_count": 31,
   "id": "98aa3109",
   "metadata": {},
   "outputs": [
    {
     "name": "stdout",
     "output_type": "stream",
     "text": [
      "Budget:  220000000\n",
      "Revenue:  1518815515\n",
      "Certification:  PG-13\n"
     ]
    }
   ],
   "source": [
    "information(info1)"
   ]
  },
  {
   "cell_type": "markdown",
   "id": "256f343c",
   "metadata": {},
   "source": [
    "### 2nd Test"
   ]
  },
  {
   "cell_type": "code",
   "execution_count": 34,
   "id": "a02be477",
   "metadata": {},
   "outputs": [],
   "source": [
    "movie_id2 = 'tt0332280'\n",
    "info2 = get_movie_with_rating(movie_id2)"
   ]
  },
  {
   "cell_type": "code",
   "execution_count": 35,
   "id": "0b6a3da2",
   "metadata": {},
   "outputs": [
    {
     "name": "stdout",
     "output_type": "stream",
     "text": [
      "Budget:  29000000\n",
      "Revenue:  115603229\n",
      "Certification:  PG-13\n"
     ]
    }
   ],
   "source": [
    "information(info2)"
   ]
  },
  {
   "cell_type": "markdown",
   "id": "e41c2423",
   "metadata": {},
   "source": [
    "## Extend JSON file Function"
   ]
  },
  {
   "cell_type": "code",
   "execution_count": null,
   "id": "eafb5930",
   "metadata": {},
   "outputs": [],
   "source": [
    "def write_json(new_data, filename): \n",
    "    \"\"\"Appends a list of records (new_data) to a json file (filename). \n",
    "    Adapted from: https://www.geeksforgeeks.org/append-to-json-file-using-python/\"\"\"  \n",
    "    \n",
    "    with open(filename,'r+') as file:\n",
    "        # First we load existing data into a dict.\n",
    "        file_data = json.load(file)\n",
    "        ## Choose extend or append\n",
    "        if (type(new_data) == list) & (type(file_data) == list):\n",
    "            file_data.extend(new_data)\n",
    "        else:\n",
    "             file_data.append(new_data)\n",
    "        # Sets file's current position at offset.\n",
    "        file.seek(0)\n",
    "        # convert back to json.\n",
    "        json.dump(file_data, file)"
   ]
  },
  {
   "cell_type": "markdown",
   "id": "6de89e93",
   "metadata": {},
   "source": [
    "# <b> Exploratory Data Analysis\n",
    "    \n",
    "- Load in your csv.gz's of results for each year extracted.\n",
    "    1. Concatenate the data into 1 dataframe for the remainder of the analysis.\n",
    "- Once you have your data from the API, they would like you to perform some light EDA to show:\n",
    "    1. How many movies had at least some valid financial information (values > 0 for budget OR revenue)?\n",
    "        1. Please exclude any movies with 0's for budget AND revenue from the remaining visualizations.\n",
    "    2. How many movies are there in each of the certification categories (G/PG/PG-13/R)?\n",
    "    3. What is the average revenue per certification category?\n",
    "    4. What is the average budget per certification category?\n",
    "\n",
    "<b> Deliverables\n",
    "    \n",
    "After you have joined the tmdb results into 1 dataframe in the EDA Notebook,\n",
    "\n",
    "- Save a final merged .csv.gz of all of the tmdb api data\n",
    "- The file name should be \"tmdb_results_combined.csv.gz\"\n",
    "- Make sure this is pushed to your github repository along with all of your code\n",
    "    - One code file for API calls\n",
    "    - One code file for EDA"
   ]
  }
 ],
 "metadata": {
  "kernelspec": {
   "display_name": "Python 3 (ipykernel)",
   "language": "python",
   "name": "python3"
  },
  "language_info": {
   "codemirror_mode": {
    "name": "ipython",
    "version": 3
   },
   "file_extension": ".py",
   "mimetype": "text/x-python",
   "name": "python",
   "nbconvert_exporter": "python",
   "pygments_lexer": "ipython3",
   "version": "3.9.15"
  },
  "toc": {
   "base_numbering": 1,
   "nav_menu": {},
   "number_sections": false,
   "sideBar": true,
   "skip_h1_title": false,
   "title_cell": "Table of Contents",
   "title_sidebar": "Contents",
   "toc_cell": false,
   "toc_position": {
    "height": "calc(100% - 180px)",
    "left": "10px",
    "top": "150px",
    "width": "384px"
   },
   "toc_section_display": true,
   "toc_window_display": true
  }
 },
 "nbformat": 4,
 "nbformat_minor": 5
}
