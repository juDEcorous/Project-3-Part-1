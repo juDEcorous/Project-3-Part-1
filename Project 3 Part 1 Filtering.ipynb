{
 "cells": [
  {
   "cell_type": "markdown",
   "id": "d5460a35",
   "metadata": {},
   "source": [
    "# Business Problem\n",
    "For this project, you have been hired to produce a MySQL database on Movies from a subset of IMDB's publicly available dataset. Ultimately, you will use this database to analyze what makes a movie successful and will provide recommendations to the stakeholder on how to make a successful movie.\n",
    "\n",
    "Over the course of this project, you will:\n",
    "\n",
    "* Part 1: Download several files from IMDB’s movie data set and filter out the subset of moves requested by the stakeholder.\n",
    "* Part 2: Use an API to extract box office revenue and profit data to add to your IMDB data and perform exploratory data analysis.\n",
    "* Part 3: Construct and export a MySQL database using your data.\n",
    "* Part 4: Apply hypothesis testing to explore what makes a movie successful.\n",
    "* Part 5 (Optional): Produce a Linear Regression model to predict movie performance.\n",
    "\n",
    "# Part 1\n",
    "\n",
    "## Specifications\n",
    "Your stakeholder only wants you to include information for movies based on the following specifications:\n",
    "\n",
    "- Exclude any movie with missing values for genre or runtime\n",
    "- Include only full-length movies (titleType = \"movie\").\n",
    "- Include only fictional movies (not from documentary genre)\n",
    "- Include only movies that were released 2000 - 2021 (include 2000 and 2021)\n",
    "- Include only movies that were released in the United States\n",
    "\n",
    "## Data Source\n",
    "https://datasets.imdbws.com/\n",
    "\n",
    "<img src='blue_long_2-9665a76b1ae401a510ec1e0ca40ddcb3b0cfe45f1d51b77a308fea0845885648.svg'>\n",
    "\n",
    "\n",
    "## Imports"
   ]
  },
  {
   "cell_type": "code",
   "execution_count": 1,
   "id": "0cb57c74",
   "metadata": {},
   "outputs": [],
   "source": [
    "import pandas as pd\n",
    "import numpy as np \n",
    "import os"
   ]
  },
  {
   "cell_type": "markdown",
   "id": "baee29e6",
   "metadata": {},
   "source": [
    "## URLS"
   ]
  },
  {
   "cell_type": "code",
   "execution_count": 2,
   "id": "0794e3d3",
   "metadata": {},
   "outputs": [],
   "source": [
    "basics_url = 'https://datasets.imdbws.com/title.basics.tsv.gz'\n",
    "ratings_url = 'https://datasets.imdbws.com/title.ratings.tsv.gz'\n",
    "akas_url = 'https://datasets.imdbws.com/title.akas.tsv.gz'"
   ]
  },
  {
   "cell_type": "markdown",
   "id": "8572c1ec",
   "metadata": {},
   "source": [
    "## Loading TSV's with Pandas"
   ]
  },
  {
   "cell_type": "code",
   "execution_count": 3,
   "id": "462ad4be",
   "metadata": {},
   "outputs": [],
   "source": [
    "basics = pd.read_csv(basics_url, sep = '\\t', low_memory = False)\n",
    "ratings = pd.read_csv(ratings_url, sep = '\\t', low_memory = False)\n",
    "akas = pd.read_csv(akas_url, sep = '\\t', low_memory = False)"
   ]
  },
  {
   "cell_type": "markdown",
   "id": "e43b43d5",
   "metadata": {},
   "source": [
    "## Replacing \\N to NaN"
   ]
  },
  {
   "cell_type": "code",
   "execution_count": 4,
   "id": "56d9b6e2",
   "metadata": {},
   "outputs": [],
   "source": [
    "basics.replace({'\\\\N' : np.nan}, inplace = True)\n",
    "ratings.replace({'\\\\N' : np.nan}, inplace = True)\n",
    "akas.replace({'\\\\N' : np.nan}, inplace = True)"
   ]
  },
  {
   "cell_type": "markdown",
   "id": "0155275a",
   "metadata": {},
   "source": [
    "## Loading data and Preprocessing\n",
    "### Basics"
   ]
  },
  {
   "cell_type": "code",
   "execution_count": 5,
   "id": "ab2cebd3",
   "metadata": {
    "scrolled": false
   },
   "outputs": [
    {
     "name": "stdout",
     "output_type": "stream",
     "text": [
      "<class 'pandas.core.frame.DataFrame'>\n",
      "RangeIndex: 9906183 entries, 0 to 9906182\n",
      "Data columns (total 9 columns):\n",
      " #   Column          Dtype \n",
      "---  ------          ----- \n",
      " 0   tconst          object\n",
      " 1   titleType       object\n",
      " 2   primaryTitle    object\n",
      " 3   originalTitle   object\n",
      " 4   isAdult         object\n",
      " 5   startYear       object\n",
      " 6   endYear         object\n",
      " 7   runtimeMinutes  object\n",
      " 8   genres          object\n",
      "dtypes: object(9)\n",
      "memory usage: 680.2+ MB\n"
     ]
    },
    {
     "data": {
      "text/html": [
       "<div>\n",
       "<style scoped>\n",
       "    .dataframe tbody tr th:only-of-type {\n",
       "        vertical-align: middle;\n",
       "    }\n",
       "\n",
       "    .dataframe tbody tr th {\n",
       "        vertical-align: top;\n",
       "    }\n",
       "\n",
       "    .dataframe thead th {\n",
       "        text-align: right;\n",
       "    }\n",
       "</style>\n",
       "<table border=\"1\" class=\"dataframe\">\n",
       "  <thead>\n",
       "    <tr style=\"text-align: right;\">\n",
       "      <th></th>\n",
       "      <th>tconst</th>\n",
       "      <th>titleType</th>\n",
       "      <th>primaryTitle</th>\n",
       "      <th>originalTitle</th>\n",
       "      <th>isAdult</th>\n",
       "      <th>startYear</th>\n",
       "      <th>endYear</th>\n",
       "      <th>runtimeMinutes</th>\n",
       "      <th>genres</th>\n",
       "    </tr>\n",
       "  </thead>\n",
       "  <tbody>\n",
       "    <tr>\n",
       "      <th>0</th>\n",
       "      <td>tt0000001</td>\n",
       "      <td>short</td>\n",
       "      <td>Carmencita</td>\n",
       "      <td>Carmencita</td>\n",
       "      <td>0</td>\n",
       "      <td>1894</td>\n",
       "      <td>NaN</td>\n",
       "      <td>1</td>\n",
       "      <td>Documentary,Short</td>\n",
       "    </tr>\n",
       "    <tr>\n",
       "      <th>1</th>\n",
       "      <td>tt0000002</td>\n",
       "      <td>short</td>\n",
       "      <td>Le clown et ses chiens</td>\n",
       "      <td>Le clown et ses chiens</td>\n",
       "      <td>0</td>\n",
       "      <td>1892</td>\n",
       "      <td>NaN</td>\n",
       "      <td>5</td>\n",
       "      <td>Animation,Short</td>\n",
       "    </tr>\n",
       "    <tr>\n",
       "      <th>2</th>\n",
       "      <td>tt0000003</td>\n",
       "      <td>short</td>\n",
       "      <td>Pauvre Pierrot</td>\n",
       "      <td>Pauvre Pierrot</td>\n",
       "      <td>0</td>\n",
       "      <td>1892</td>\n",
       "      <td>NaN</td>\n",
       "      <td>4</td>\n",
       "      <td>Animation,Comedy,Romance</td>\n",
       "    </tr>\n",
       "    <tr>\n",
       "      <th>3</th>\n",
       "      <td>tt0000004</td>\n",
       "      <td>short</td>\n",
       "      <td>Un bon bock</td>\n",
       "      <td>Un bon bock</td>\n",
       "      <td>0</td>\n",
       "      <td>1892</td>\n",
       "      <td>NaN</td>\n",
       "      <td>12</td>\n",
       "      <td>Animation,Short</td>\n",
       "    </tr>\n",
       "    <tr>\n",
       "      <th>4</th>\n",
       "      <td>tt0000005</td>\n",
       "      <td>short</td>\n",
       "      <td>Blacksmith Scene</td>\n",
       "      <td>Blacksmith Scene</td>\n",
       "      <td>0</td>\n",
       "      <td>1893</td>\n",
       "      <td>NaN</td>\n",
       "      <td>1</td>\n",
       "      <td>Comedy,Short</td>\n",
       "    </tr>\n",
       "  </tbody>\n",
       "</table>\n",
       "</div>"
      ],
      "text/plain": [
       "      tconst titleType            primaryTitle           originalTitle  \\\n",
       "0  tt0000001     short              Carmencita              Carmencita   \n",
       "1  tt0000002     short  Le clown et ses chiens  Le clown et ses chiens   \n",
       "2  tt0000003     short          Pauvre Pierrot          Pauvre Pierrot   \n",
       "3  tt0000004     short             Un bon bock             Un bon bock   \n",
       "4  tt0000005     short        Blacksmith Scene        Blacksmith Scene   \n",
       "\n",
       "  isAdult startYear endYear runtimeMinutes                    genres  \n",
       "0       0      1894     NaN              1         Documentary,Short  \n",
       "1       0      1892     NaN              5           Animation,Short  \n",
       "2       0      1892     NaN              4  Animation,Comedy,Romance  \n",
       "3       0      1892     NaN             12           Animation,Short  \n",
       "4       0      1893     NaN              1              Comedy,Short  "
      ]
     },
     "execution_count": 5,
     "metadata": {},
     "output_type": "execute_result"
    }
   ],
   "source": [
    "basics.info()\n",
    "basics.head()"
   ]
  },
  {
   "cell_type": "code",
   "execution_count": 6,
   "id": "1ece4ceb",
   "metadata": {},
   "outputs": [
    {
     "name": "stdout",
     "output_type": "stream",
     "text": [
      "<class 'pandas.core.frame.DataFrame'>\n",
      "Int64Index: 147657 entries, 34803 to 9906033\n",
      "Data columns (total 9 columns):\n",
      " #   Column          Non-Null Count   Dtype \n",
      "---  ------          --------------   ----- \n",
      " 0   tconst          147657 non-null  object\n",
      " 1   titleType       147657 non-null  object\n",
      " 2   primaryTitle    147657 non-null  object\n",
      " 3   originalTitle   147657 non-null  object\n",
      " 4   isAdult         147657 non-null  object\n",
      " 5   startYear       147657 non-null  int32 \n",
      " 6   endYear         0 non-null       object\n",
      " 7   runtimeMinutes  147657 non-null  object\n",
      " 8   genres          147657 non-null  object\n",
      "dtypes: int32(1), object(8)\n",
      "memory usage: 10.7+ MB\n"
     ]
    },
    {
     "data": {
      "text/html": [
       "<div>\n",
       "<style scoped>\n",
       "    .dataframe tbody tr th:only-of-type {\n",
       "        vertical-align: middle;\n",
       "    }\n",
       "\n",
       "    .dataframe tbody tr th {\n",
       "        vertical-align: top;\n",
       "    }\n",
       "\n",
       "    .dataframe thead th {\n",
       "        text-align: right;\n",
       "    }\n",
       "</style>\n",
       "<table border=\"1\" class=\"dataframe\">\n",
       "  <thead>\n",
       "    <tr style=\"text-align: right;\">\n",
       "      <th></th>\n",
       "      <th>tconst</th>\n",
       "      <th>titleType</th>\n",
       "      <th>primaryTitle</th>\n",
       "      <th>originalTitle</th>\n",
       "      <th>isAdult</th>\n",
       "      <th>startYear</th>\n",
       "      <th>endYear</th>\n",
       "      <th>runtimeMinutes</th>\n",
       "      <th>genres</th>\n",
       "    </tr>\n",
       "  </thead>\n",
       "  <tbody>\n",
       "    <tr>\n",
       "      <th>4033486</th>\n",
       "      <td>tt15614672</td>\n",
       "      <td>movie</td>\n",
       "      <td>Rakshak Fantastic 4</td>\n",
       "      <td>Rakshak Fantastic 4</td>\n",
       "      <td>0</td>\n",
       "      <td>2009</td>\n",
       "      <td>NaN</td>\n",
       "      <td>45</td>\n",
       "      <td>Crime</td>\n",
       "    </tr>\n",
       "    <tr>\n",
       "      <th>2478571</th>\n",
       "      <td>tt12747860</td>\n",
       "      <td>movie</td>\n",
       "      <td>Bhima cha Wagh</td>\n",
       "      <td>Bhima cha Wagh</td>\n",
       "      <td>0</td>\n",
       "      <td>2015</td>\n",
       "      <td>NaN</td>\n",
       "      <td>145</td>\n",
       "      <td>Drama</td>\n",
       "    </tr>\n",
       "    <tr>\n",
       "      <th>839943</th>\n",
       "      <td>tt0867306</td>\n",
       "      <td>movie</td>\n",
       "      <td>The Human Trace</td>\n",
       "      <td>The Human Trace</td>\n",
       "      <td>0</td>\n",
       "      <td>2008</td>\n",
       "      <td>NaN</td>\n",
       "      <td>109</td>\n",
       "      <td>Thriller</td>\n",
       "    </tr>\n",
       "  </tbody>\n",
       "</table>\n",
       "</div>"
      ],
      "text/plain": [
       "             tconst titleType         primaryTitle        originalTitle  \\\n",
       "4033486  tt15614672     movie  Rakshak Fantastic 4  Rakshak Fantastic 4   \n",
       "2478571  tt12747860     movie       Bhima cha Wagh       Bhima cha Wagh   \n",
       "839943    tt0867306     movie      The Human Trace      The Human Trace   \n",
       "\n",
       "        isAdult  startYear endYear runtimeMinutes    genres  \n",
       "4033486       0       2009     NaN             45     Crime  \n",
       "2478571       0       2015     NaN            145     Drama  \n",
       "839943        0       2008     NaN            109  Thriller  "
      ]
     },
     "execution_count": 6,
     "metadata": {},
     "output_type": "execute_result"
    }
   ],
   "source": [
    "# Eliminate movies that are null for runtimeMinutes\n",
    "basics.dropna(subset = ['runtimeMinutes'], inplace = True)\n",
    "# Eliminate movies that are null for genre\n",
    "basics.dropna(subset = ['genres'], inplace = True)\n",
    "# keep only titleType==Movie\n",
    "basics = basics[basics['titleType'] == 'movie']\n",
    "# keep startYear 2000-2022\n",
    "basics.dropna(subset = ['startYear'], inplace = True)\n",
    "basics['startYear'] = basics['startYear'].astype(int)\n",
    "basics = basics[(basics['startYear'] >= 2000) & (basics['startYear'] <= 2022)]\n",
    "# Eliminate movies that include \"Documentary\" in genre\n",
    "is_documentary = basics['genres'].str.contains('documentary', case = False)\n",
    "basics = basics[~is_documentary]\n",
    "# Keep only US movies*\n",
    "\n",
    "basics.info()\n",
    "basics.sample(3)"
   ]
  },
  {
   "cell_type": "markdown",
   "id": "48b32e51",
   "metadata": {},
   "source": [
    "- We have reduced the number of rows in the basic data file. We haven't done the 'Keep only US movies' just yet as region is only found in akas.\n",
    "\n",
    "### AKAs"
   ]
  },
  {
   "cell_type": "code",
   "execution_count": 7,
   "id": "4229a570",
   "metadata": {},
   "outputs": [
    {
     "name": "stdout",
     "output_type": "stream",
     "text": [
      "<class 'pandas.core.frame.DataFrame'>\n",
      "RangeIndex: 36139188 entries, 0 to 36139187\n",
      "Data columns (total 8 columns):\n",
      " #   Column           Dtype \n",
      "---  ------           ----- \n",
      " 0   titleId          object\n",
      " 1   ordering         int64 \n",
      " 2   title            object\n",
      " 3   region           object\n",
      " 4   language         object\n",
      " 5   types            object\n",
      " 6   attributes       object\n",
      " 7   isOriginalTitle  object\n",
      "dtypes: int64(1), object(7)\n",
      "memory usage: 2.2+ GB\n"
     ]
    },
    {
     "data": {
      "text/html": [
       "<div>\n",
       "<style scoped>\n",
       "    .dataframe tbody tr th:only-of-type {\n",
       "        vertical-align: middle;\n",
       "    }\n",
       "\n",
       "    .dataframe tbody tr th {\n",
       "        vertical-align: top;\n",
       "    }\n",
       "\n",
       "    .dataframe thead th {\n",
       "        text-align: right;\n",
       "    }\n",
       "</style>\n",
       "<table border=\"1\" class=\"dataframe\">\n",
       "  <thead>\n",
       "    <tr style=\"text-align: right;\">\n",
       "      <th></th>\n",
       "      <th>titleId</th>\n",
       "      <th>ordering</th>\n",
       "      <th>title</th>\n",
       "      <th>region</th>\n",
       "      <th>language</th>\n",
       "      <th>types</th>\n",
       "      <th>attributes</th>\n",
       "      <th>isOriginalTitle</th>\n",
       "    </tr>\n",
       "  </thead>\n",
       "  <tbody>\n",
       "    <tr>\n",
       "      <th>10318852</th>\n",
       "      <td>tt13156472</td>\n",
       "      <td>10</td>\n",
       "      <td>Prince of Muck</td>\n",
       "      <td>US</td>\n",
       "      <td>NaN</td>\n",
       "      <td>imdbDisplay</td>\n",
       "      <td>NaN</td>\n",
       "      <td>0</td>\n",
       "    </tr>\n",
       "    <tr>\n",
       "      <th>7771583</th>\n",
       "      <td>tt11961526</td>\n",
       "      <td>1</td>\n",
       "      <td>The Three Little Bumble Nums</td>\n",
       "      <td>CA</td>\n",
       "      <td>NaN</td>\n",
       "      <td>NaN</td>\n",
       "      <td>NaN</td>\n",
       "      <td>0</td>\n",
       "    </tr>\n",
       "    <tr>\n",
       "      <th>35265187</th>\n",
       "      <td>tt9457430</td>\n",
       "      <td>1</td>\n",
       "      <td>エピソード #1.331</td>\n",
       "      <td>JP</td>\n",
       "      <td>ja</td>\n",
       "      <td>NaN</td>\n",
       "      <td>NaN</td>\n",
       "      <td>0</td>\n",
       "    </tr>\n",
       "    <tr>\n",
       "      <th>34140190</th>\n",
       "      <td>tt8850038</td>\n",
       "      <td>1</td>\n",
       "      <td>Vintage Crown Point with the Cowbell Song</td>\n",
       "      <td>CA</td>\n",
       "      <td>NaN</td>\n",
       "      <td>NaN</td>\n",
       "      <td>NaN</td>\n",
       "      <td>0</td>\n",
       "    </tr>\n",
       "    <tr>\n",
       "      <th>19089778</th>\n",
       "      <td>tt1956432</td>\n",
       "      <td>2</td>\n",
       "      <td>Ashes</td>\n",
       "      <td>US</td>\n",
       "      <td>NaN</td>\n",
       "      <td>imdbDisplay</td>\n",
       "      <td>NaN</td>\n",
       "      <td>0</td>\n",
       "    </tr>\n",
       "  </tbody>\n",
       "</table>\n",
       "</div>"
      ],
      "text/plain": [
       "             titleId  ordering                                      title  \\\n",
       "10318852  tt13156472        10                             Prince of Muck   \n",
       "7771583   tt11961526         1               The Three Little Bumble Nums   \n",
       "35265187   tt9457430         1                               エピソード #1.331   \n",
       "34140190   tt8850038         1  Vintage Crown Point with the Cowbell Song   \n",
       "19089778   tt1956432         2                                      Ashes   \n",
       "\n",
       "         region language        types attributes isOriginalTitle  \n",
       "10318852     US      NaN  imdbDisplay        NaN               0  \n",
       "7771583      CA      NaN          NaN        NaN               0  \n",
       "35265187     JP       ja          NaN        NaN               0  \n",
       "34140190     CA      NaN          NaN        NaN               0  \n",
       "19089778     US      NaN  imdbDisplay        NaN               0  "
      ]
     },
     "execution_count": 7,
     "metadata": {},
     "output_type": "execute_result"
    }
   ],
   "source": [
    "akas.info()\n",
    "akas.sample(5)"
   ]
  },
  {
   "cell_type": "code",
   "execution_count": 8,
   "id": "38d1b0be",
   "metadata": {},
   "outputs": [
    {
     "name": "stdout",
     "output_type": "stream",
     "text": [
      "<class 'pandas.core.frame.DataFrame'>\n",
      "Int64Index: 1443212 entries, 5 to 36138932\n",
      "Data columns (total 8 columns):\n",
      " #   Column           Non-Null Count    Dtype \n",
      "---  ------           --------------    ----- \n",
      " 0   titleId          1443212 non-null  object\n",
      " 1   ordering         1443212 non-null  int64 \n",
      " 2   title            1443212 non-null  object\n",
      " 3   region           1443212 non-null  object\n",
      " 4   language         3945 non-null     object\n",
      " 5   types            979812 non-null   object\n",
      " 6   attributes       46703 non-null    object\n",
      " 7   isOriginalTitle  1441870 non-null  object\n",
      "dtypes: int64(1), object(7)\n",
      "memory usage: 99.1+ MB\n"
     ]
    },
    {
     "data": {
      "text/html": [
       "<div>\n",
       "<style scoped>\n",
       "    .dataframe tbody tr th:only-of-type {\n",
       "        vertical-align: middle;\n",
       "    }\n",
       "\n",
       "    .dataframe tbody tr th {\n",
       "        vertical-align: top;\n",
       "    }\n",
       "\n",
       "    .dataframe thead th {\n",
       "        text-align: right;\n",
       "    }\n",
       "</style>\n",
       "<table border=\"1\" class=\"dataframe\">\n",
       "  <thead>\n",
       "    <tr style=\"text-align: right;\">\n",
       "      <th></th>\n",
       "      <th>titleId</th>\n",
       "      <th>ordering</th>\n",
       "      <th>title</th>\n",
       "      <th>region</th>\n",
       "      <th>language</th>\n",
       "      <th>types</th>\n",
       "      <th>attributes</th>\n",
       "      <th>isOriginalTitle</th>\n",
       "    </tr>\n",
       "  </thead>\n",
       "  <tbody>\n",
       "    <tr>\n",
       "      <th>1735275</th>\n",
       "      <td>tt0345672</td>\n",
       "      <td>4</td>\n",
       "      <td>The Bridge</td>\n",
       "      <td>US</td>\n",
       "      <td>NaN</td>\n",
       "      <td>festival</td>\n",
       "      <td>NaN</td>\n",
       "      <td>0</td>\n",
       "    </tr>\n",
       "    <tr>\n",
       "      <th>472823</th>\n",
       "      <td>tt0062347</td>\n",
       "      <td>14</td>\n",
       "      <td>The Hired Killer</td>\n",
       "      <td>US</td>\n",
       "      <td>NaN</td>\n",
       "      <td>imdbDisplay</td>\n",
       "      <td>NaN</td>\n",
       "      <td>0</td>\n",
       "    </tr>\n",
       "    <tr>\n",
       "      <th>34314384</th>\n",
       "      <td>tt8943888</td>\n",
       "      <td>1</td>\n",
       "      <td>At Least 5 People Are Dead as Tropical Storm F...</td>\n",
       "      <td>US</td>\n",
       "      <td>NaN</td>\n",
       "      <td>NaN</td>\n",
       "      <td>NaN</td>\n",
       "      <td>0</td>\n",
       "    </tr>\n",
       "  </tbody>\n",
       "</table>\n",
       "</div>"
      ],
      "text/plain": [
       "            titleId  ordering  \\\n",
       "1735275   tt0345672         4   \n",
       "472823    tt0062347        14   \n",
       "34314384  tt8943888         1   \n",
       "\n",
       "                                                      title region language  \\\n",
       "1735275                                          The Bridge     US      NaN   \n",
       "472823                                     The Hired Killer     US      NaN   \n",
       "34314384  At Least 5 People Are Dead as Tropical Storm F...     US      NaN   \n",
       "\n",
       "                types attributes isOriginalTitle  \n",
       "1735275      festival        NaN               0  \n",
       "472823    imdbDisplay        NaN               0  \n",
       "34314384          NaN        NaN               0  "
      ]
     },
     "execution_count": 8,
     "metadata": {},
     "output_type": "execute_result"
    }
   ],
   "source": [
    "akas = akas[akas['region'] == 'US']\n",
    "akas.info()\n",
    "akas.sample(3)"
   ]
  },
  {
   "cell_type": "code",
   "execution_count": 9,
   "id": "66b31325",
   "metadata": {},
   "outputs": [
    {
     "name": "stdout",
     "output_type": "stream",
     "text": [
      "<class 'pandas.core.frame.DataFrame'>\n",
      "Int64Index: 86756 entries, 34803 to 9905949\n",
      "Data columns (total 9 columns):\n",
      " #   Column          Non-Null Count  Dtype \n",
      "---  ------          --------------  ----- \n",
      " 0   tconst          86756 non-null  object\n",
      " 1   titleType       86756 non-null  object\n",
      " 2   primaryTitle    86756 non-null  object\n",
      " 3   originalTitle   86756 non-null  object\n",
      " 4   isAdult         86756 non-null  object\n",
      " 5   startYear       86756 non-null  int32 \n",
      " 6   endYear         0 non-null      object\n",
      " 7   runtimeMinutes  86756 non-null  object\n",
      " 8   genres          86756 non-null  object\n",
      "dtypes: int32(1), object(8)\n",
      "memory usage: 6.3+ MB\n"
     ]
    }
   ],
   "source": [
    "# filter basics to only include US from akas filtered dataset\n",
    "akas_keepers = basics['tconst'].isin(akas['titleId'])\n",
    "# filter basics [!]\n",
    "basics = basics[akas_keepers]\n",
    "# checking that the number of entries has decreases\n",
    "basics.info()"
   ]
  },
  {
   "cell_type": "markdown",
   "id": "23610bb3",
   "metadata": {},
   "source": [
    "### Ratings"
   ]
  },
  {
   "cell_type": "code",
   "execution_count": 10,
   "id": "c326bc93",
   "metadata": {},
   "outputs": [
    {
     "name": "stdout",
     "output_type": "stream",
     "text": [
      "<class 'pandas.core.frame.DataFrame'>\n",
      "RangeIndex: 1320058 entries, 0 to 1320057\n",
      "Data columns (total 3 columns):\n",
      " #   Column         Non-Null Count    Dtype  \n",
      "---  ------         --------------    -----  \n",
      " 0   tconst         1320058 non-null  object \n",
      " 1   averageRating  1320058 non-null  float64\n",
      " 2   numVotes       1320058 non-null  int64  \n",
      "dtypes: float64(1), int64(1), object(1)\n",
      "memory usage: 30.2+ MB\n"
     ]
    },
    {
     "data": {
      "text/html": [
       "<div>\n",
       "<style scoped>\n",
       "    .dataframe tbody tr th:only-of-type {\n",
       "        vertical-align: middle;\n",
       "    }\n",
       "\n",
       "    .dataframe tbody tr th {\n",
       "        vertical-align: top;\n",
       "    }\n",
       "\n",
       "    .dataframe thead th {\n",
       "        text-align: right;\n",
       "    }\n",
       "</style>\n",
       "<table border=\"1\" class=\"dataframe\">\n",
       "  <thead>\n",
       "    <tr style=\"text-align: right;\">\n",
       "      <th></th>\n",
       "      <th>tconst</th>\n",
       "      <th>averageRating</th>\n",
       "      <th>numVotes</th>\n",
       "    </tr>\n",
       "  </thead>\n",
       "  <tbody>\n",
       "    <tr>\n",
       "      <th>0</th>\n",
       "      <td>tt0000001</td>\n",
       "      <td>5.7</td>\n",
       "      <td>1978</td>\n",
       "    </tr>\n",
       "    <tr>\n",
       "      <th>1</th>\n",
       "      <td>tt0000002</td>\n",
       "      <td>5.8</td>\n",
       "      <td>265</td>\n",
       "    </tr>\n",
       "    <tr>\n",
       "      <th>2</th>\n",
       "      <td>tt0000003</td>\n",
       "      <td>6.5</td>\n",
       "      <td>1831</td>\n",
       "    </tr>\n",
       "    <tr>\n",
       "      <th>3</th>\n",
       "      <td>tt0000004</td>\n",
       "      <td>5.6</td>\n",
       "      <td>179</td>\n",
       "    </tr>\n",
       "    <tr>\n",
       "      <th>4</th>\n",
       "      <td>tt0000005</td>\n",
       "      <td>6.2</td>\n",
       "      <td>2621</td>\n",
       "    </tr>\n",
       "  </tbody>\n",
       "</table>\n",
       "</div>"
      ],
      "text/plain": [
       "      tconst  averageRating  numVotes\n",
       "0  tt0000001            5.7      1978\n",
       "1  tt0000002            5.8       265\n",
       "2  tt0000003            6.5      1831\n",
       "3  tt0000004            5.6       179\n",
       "4  tt0000005            6.2      2621"
      ]
     },
     "execution_count": 10,
     "metadata": {},
     "output_type": "execute_result"
    }
   ],
   "source": [
    "ratings.info()\n",
    "ratings.head()"
   ]
  },
  {
   "cell_type": "code",
   "execution_count": 11,
   "id": "1a3fcdb0",
   "metadata": {},
   "outputs": [],
   "source": [
    "rating_keepers = ratings['tconst'].isin(akas['titleId'])\n",
    "ratings = ratings[rating_keepers]"
   ]
  },
  {
   "cell_type": "code",
   "execution_count": 12,
   "id": "10844575",
   "metadata": {},
   "outputs": [
    {
     "name": "stdout",
     "output_type": "stream",
     "text": [
      "<class 'pandas.core.frame.DataFrame'>\n",
      "Int64Index: 501007 entries, 0 to 1320033\n",
      "Data columns (total 3 columns):\n",
      " #   Column         Non-Null Count   Dtype  \n",
      "---  ------         --------------   -----  \n",
      " 0   tconst         501007 non-null  object \n",
      " 1   averageRating  501007 non-null  float64\n",
      " 2   numVotes       501007 non-null  int64  \n",
      "dtypes: float64(1), int64(1), object(1)\n",
      "memory usage: 15.3+ MB\n"
     ]
    },
    {
     "data": {
      "text/html": [
       "<div>\n",
       "<style scoped>\n",
       "    .dataframe tbody tr th:only-of-type {\n",
       "        vertical-align: middle;\n",
       "    }\n",
       "\n",
       "    .dataframe tbody tr th {\n",
       "        vertical-align: top;\n",
       "    }\n",
       "\n",
       "    .dataframe thead th {\n",
       "        text-align: right;\n",
       "    }\n",
       "</style>\n",
       "<table border=\"1\" class=\"dataframe\">\n",
       "  <thead>\n",
       "    <tr style=\"text-align: right;\">\n",
       "      <th></th>\n",
       "      <th>tconst</th>\n",
       "      <th>averageRating</th>\n",
       "      <th>numVotes</th>\n",
       "    </tr>\n",
       "  </thead>\n",
       "  <tbody>\n",
       "    <tr>\n",
       "      <th>0</th>\n",
       "      <td>tt0000001</td>\n",
       "      <td>5.7</td>\n",
       "      <td>1978</td>\n",
       "    </tr>\n",
       "    <tr>\n",
       "      <th>1</th>\n",
       "      <td>tt0000002</td>\n",
       "      <td>5.8</td>\n",
       "      <td>265</td>\n",
       "    </tr>\n",
       "    <tr>\n",
       "      <th>4</th>\n",
       "      <td>tt0000005</td>\n",
       "      <td>6.2</td>\n",
       "      <td>2621</td>\n",
       "    </tr>\n",
       "    <tr>\n",
       "      <th>5</th>\n",
       "      <td>tt0000006</td>\n",
       "      <td>5.1</td>\n",
       "      <td>182</td>\n",
       "    </tr>\n",
       "    <tr>\n",
       "      <th>6</th>\n",
       "      <td>tt0000007</td>\n",
       "      <td>5.4</td>\n",
       "      <td>821</td>\n",
       "    </tr>\n",
       "  </tbody>\n",
       "</table>\n",
       "</div>"
      ],
      "text/plain": [
       "      tconst  averageRating  numVotes\n",
       "0  tt0000001            5.7      1978\n",
       "1  tt0000002            5.8       265\n",
       "4  tt0000005            6.2      2621\n",
       "5  tt0000006            5.1       182\n",
       "6  tt0000007            5.4       821"
      ]
     },
     "execution_count": 12,
     "metadata": {},
     "output_type": "execute_result"
    }
   ],
   "source": [
    "ratings.info()\n",
    "ratings.head()"
   ]
  },
  {
   "cell_type": "markdown",
   "id": "8eb6d085",
   "metadata": {},
   "source": [
    "## Save"
   ]
  },
  {
   "cell_type": "code",
   "execution_count": 13,
   "id": "022c9ebe",
   "metadata": {},
   "outputs": [
    {
     "data": {
      "text/plain": [
       "['title_akas.csv.gz', 'title_basics.csv.gz', 'title_ratings.csv.gz']"
      ]
     },
     "execution_count": 13,
     "metadata": {},
     "output_type": "execute_result"
    }
   ],
   "source": [
    "# making new folder with os\n",
    "os.makedirs('Data/',exist_ok = True) \n",
    "# Confirm folder created\n",
    "os.listdir('Data/')"
   ]
  },
  {
   "cell_type": "code",
   "execution_count": 14,
   "id": "b0055522",
   "metadata": {},
   "outputs": [],
   "source": [
    "basics.to_csv('Data/title_basics.csv.gz', compression = 'gzip', index = False)\n",
    "akas.to_csv('Data/title_akas.csv.gz', compression = 'gzip', index = False)\n",
    "ratings.to_csv('Data/title_ratings.csv.gz', compression = 'gzip', index = False)"
   ]
  },
  {
   "cell_type": "code",
   "execution_count": 15,
   "id": "3fc1e100",
   "metadata": {
    "scrolled": true
   },
   "outputs": [
    {
     "data": {
      "text/html": [
       "<div>\n",
       "<style scoped>\n",
       "    .dataframe tbody tr th:only-of-type {\n",
       "        vertical-align: middle;\n",
       "    }\n",
       "\n",
       "    .dataframe tbody tr th {\n",
       "        vertical-align: top;\n",
       "    }\n",
       "\n",
       "    .dataframe thead th {\n",
       "        text-align: right;\n",
       "    }\n",
       "</style>\n",
       "<table border=\"1\" class=\"dataframe\">\n",
       "  <thead>\n",
       "    <tr style=\"text-align: right;\">\n",
       "      <th></th>\n",
       "      <th>tconst</th>\n",
       "      <th>titleType</th>\n",
       "      <th>primaryTitle</th>\n",
       "      <th>originalTitle</th>\n",
       "      <th>isAdult</th>\n",
       "      <th>startYear</th>\n",
       "      <th>endYear</th>\n",
       "      <th>runtimeMinutes</th>\n",
       "      <th>genres</th>\n",
       "    </tr>\n",
       "  </thead>\n",
       "  <tbody>\n",
       "    <tr>\n",
       "      <th>4730</th>\n",
       "      <td>tt0341546</td>\n",
       "      <td>movie</td>\n",
       "      <td>Replay</td>\n",
       "      <td>Replay</td>\n",
       "      <td>0</td>\n",
       "      <td>2003</td>\n",
       "      <td>NaN</td>\n",
       "      <td>85</td>\n",
       "      <td>Crime,Mystery</td>\n",
       "    </tr>\n",
       "    <tr>\n",
       "      <th>31511</th>\n",
       "      <td>tt1483507</td>\n",
       "      <td>movie</td>\n",
       "      <td>Shirley Adams</td>\n",
       "      <td>Shirley Adams</td>\n",
       "      <td>0</td>\n",
       "      <td>2009</td>\n",
       "      <td>NaN</td>\n",
       "      <td>92</td>\n",
       "      <td>Drama</td>\n",
       "    </tr>\n",
       "    <tr>\n",
       "      <th>21062</th>\n",
       "      <td>tt11853944</td>\n",
       "      <td>movie</td>\n",
       "      <td>The Doll 3</td>\n",
       "      <td>The Doll 3</td>\n",
       "      <td>0</td>\n",
       "      <td>2022</td>\n",
       "      <td>NaN</td>\n",
       "      <td>115</td>\n",
       "      <td>Horror,Thriller</td>\n",
       "    </tr>\n",
       "  </tbody>\n",
       "</table>\n",
       "</div>"
      ],
      "text/plain": [
       "           tconst titleType   primaryTitle  originalTitle  isAdult  startYear  \\\n",
       "4730    tt0341546     movie         Replay         Replay        0       2003   \n",
       "31511   tt1483507     movie  Shirley Adams  Shirley Adams        0       2009   \n",
       "21062  tt11853944     movie     The Doll 3     The Doll 3        0       2022   \n",
       "\n",
       "       endYear  runtimeMinutes           genres  \n",
       "4730       NaN              85    Crime,Mystery  \n",
       "31511      NaN              92            Drama  \n",
       "21062      NaN             115  Horror,Thriller  "
      ]
     },
     "execution_count": 15,
     "metadata": {},
     "output_type": "execute_result"
    }
   ],
   "source": [
    "# Open saved file and preview again\n",
    "basics = pd.read_csv('Data/title_basics.csv.gz', low_memory = False)\n",
    "basics.sample(3)"
   ]
  },
  {
   "cell_type": "code",
   "execution_count": 16,
   "id": "f5f9a18d",
   "metadata": {},
   "outputs": [
    {
     "name": "stdout",
     "output_type": "stream",
     "text": [
      "The number of rows is 86756\n"
     ]
    }
   ],
   "source": [
    "basics_num_of_rows = len(basics)\n",
    "print(f\"The number of rows is {basics_num_of_rows}\")"
   ]
  },
  {
   "cell_type": "code",
   "execution_count": 17,
   "id": "b1b20a87",
   "metadata": {},
   "outputs": [
    {
     "data": {
      "text/html": [
       "<div>\n",
       "<style scoped>\n",
       "    .dataframe tbody tr th:only-of-type {\n",
       "        vertical-align: middle;\n",
       "    }\n",
       "\n",
       "    .dataframe tbody tr th {\n",
       "        vertical-align: top;\n",
       "    }\n",
       "\n",
       "    .dataframe thead th {\n",
       "        text-align: right;\n",
       "    }\n",
       "</style>\n",
       "<table border=\"1\" class=\"dataframe\">\n",
       "  <thead>\n",
       "    <tr style=\"text-align: right;\">\n",
       "      <th></th>\n",
       "      <th>titleId</th>\n",
       "      <th>ordering</th>\n",
       "      <th>title</th>\n",
       "      <th>region</th>\n",
       "      <th>language</th>\n",
       "      <th>types</th>\n",
       "      <th>attributes</th>\n",
       "      <th>isOriginalTitle</th>\n",
       "    </tr>\n",
       "  </thead>\n",
       "  <tbody>\n",
       "    <tr>\n",
       "      <th>206925</th>\n",
       "      <td>tt0349166</td>\n",
       "      <td>2</td>\n",
       "      <td>Brain Child</td>\n",
       "      <td>US</td>\n",
       "      <td>NaN</td>\n",
       "      <td>working</td>\n",
       "      <td>NaN</td>\n",
       "      <td>0.0</td>\n",
       "    </tr>\n",
       "    <tr>\n",
       "      <th>896338</th>\n",
       "      <td>tt2281385</td>\n",
       "      <td>2</td>\n",
       "      <td>Nostalgia</td>\n",
       "      <td>US</td>\n",
       "      <td>NaN</td>\n",
       "      <td>imdbDisplay</td>\n",
       "      <td>NaN</td>\n",
       "      <td>0.0</td>\n",
       "    </tr>\n",
       "    <tr>\n",
       "      <th>779540</th>\n",
       "      <td>tt1830899</td>\n",
       "      <td>1</td>\n",
       "      <td>Vibrations: A Documentary</td>\n",
       "      <td>US</td>\n",
       "      <td>NaN</td>\n",
       "      <td>imdbDisplay</td>\n",
       "      <td>NaN</td>\n",
       "      <td>0.0</td>\n",
       "    </tr>\n",
       "  </tbody>\n",
       "</table>\n",
       "</div>"
      ],
      "text/plain": [
       "          titleId  ordering                      title region language  \\\n",
       "206925  tt0349166         2                Brain Child     US      NaN   \n",
       "896338  tt2281385         2                  Nostalgia     US      NaN   \n",
       "779540  tt1830899         1  Vibrations: A Documentary     US      NaN   \n",
       "\n",
       "              types attributes  isOriginalTitle  \n",
       "206925      working        NaN              0.0  \n",
       "896338  imdbDisplay        NaN              0.0  \n",
       "779540  imdbDisplay        NaN              0.0  "
      ]
     },
     "execution_count": 17,
     "metadata": {},
     "output_type": "execute_result"
    }
   ],
   "source": [
    "# Open saved file and preview again\n",
    "akas = pd.read_csv('Data/title_akas.csv.gz', low_memory = False)\n",
    "akas.sample(3)"
   ]
  },
  {
   "cell_type": "code",
   "execution_count": 18,
   "id": "f735a6b5",
   "metadata": {},
   "outputs": [
    {
     "name": "stdout",
     "output_type": "stream",
     "text": [
      "The number of rows is 1443212\n"
     ]
    }
   ],
   "source": [
    "akas_num_of_rows = len(akas)\n",
    "print(f\"The number of rows is {akas_num_of_rows}\")"
   ]
  },
  {
   "cell_type": "code",
   "execution_count": 19,
   "id": "27bc3485",
   "metadata": {},
   "outputs": [
    {
     "data": {
      "text/html": [
       "<div>\n",
       "<style scoped>\n",
       "    .dataframe tbody tr th:only-of-type {\n",
       "        vertical-align: middle;\n",
       "    }\n",
       "\n",
       "    .dataframe tbody tr th {\n",
       "        vertical-align: top;\n",
       "    }\n",
       "\n",
       "    .dataframe thead th {\n",
       "        text-align: right;\n",
       "    }\n",
       "</style>\n",
       "<table border=\"1\" class=\"dataframe\">\n",
       "  <thead>\n",
       "    <tr style=\"text-align: right;\">\n",
       "      <th></th>\n",
       "      <th>tconst</th>\n",
       "      <th>averageRating</th>\n",
       "      <th>numVotes</th>\n",
       "    </tr>\n",
       "  </thead>\n",
       "  <tbody>\n",
       "    <tr>\n",
       "      <th>249369</th>\n",
       "      <td>tt11512490</td>\n",
       "      <td>7.0</td>\n",
       "      <td>31</td>\n",
       "    </tr>\n",
       "    <tr>\n",
       "      <th>134622</th>\n",
       "      <td>tt0442703</td>\n",
       "      <td>6.9</td>\n",
       "      <td>68</td>\n",
       "    </tr>\n",
       "    <tr>\n",
       "      <th>208706</th>\n",
       "      <td>tt0820887</td>\n",
       "      <td>6.2</td>\n",
       "      <td>43</td>\n",
       "    </tr>\n",
       "  </tbody>\n",
       "</table>\n",
       "</div>"
      ],
      "text/plain": [
       "            tconst  averageRating  numVotes\n",
       "249369  tt11512490            7.0        31\n",
       "134622   tt0442703            6.9        68\n",
       "208706   tt0820887            6.2        43"
      ]
     },
     "execution_count": 19,
     "metadata": {},
     "output_type": "execute_result"
    }
   ],
   "source": [
    "# Open saved file and preview again\n",
    "ratings = pd.read_csv('Data/title_ratings.csv.gz', low_memory = False)\n",
    "ratings.sample(3)"
   ]
  },
  {
   "cell_type": "code",
   "execution_count": 21,
   "id": "d38b7637",
   "metadata": {},
   "outputs": [
    {
     "name": "stdout",
     "output_type": "stream",
     "text": [
      "The number of rows is 501007\n"
     ]
    }
   ],
   "source": [
    "ratings_num_of_rows = len(ratings)\n",
    "print(f\"The number of rows is {ratings_num_of_rows}\")"
   ]
  },
  {
   "cell_type": "code",
   "execution_count": null,
   "id": "7cd91cfd",
   "metadata": {},
   "outputs": [],
   "source": []
  }
 ],
 "metadata": {
  "kernelspec": {
   "display_name": "Python (dojo-env)",
   "language": "python",
   "name": "dojo-env"
  },
  "language_info": {
   "codemirror_mode": {
    "name": "ipython",
    "version": 3
   },
   "file_extension": ".py",
   "mimetype": "text/x-python",
   "name": "python",
   "nbconvert_exporter": "python",
   "pygments_lexer": "ipython3",
   "version": "3.9.15"
  },
  "toc": {
   "base_numbering": 1,
   "nav_menu": {},
   "number_sections": false,
   "sideBar": true,
   "skip_h1_title": false,
   "title_cell": "Table of Contents",
   "title_sidebar": "Contents",
   "toc_cell": false,
   "toc_position": {
    "height": "calc(100% - 180px)",
    "left": "10px",
    "top": "150px",
    "width": "384px"
   },
   "toc_section_display": true,
   "toc_window_display": true
  }
 },
 "nbformat": 4,
 "nbformat_minor": 5
}
